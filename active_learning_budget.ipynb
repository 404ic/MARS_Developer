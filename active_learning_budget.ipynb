{
 "cells": [
  {
   "cell_type": "markdown",
   "metadata": {},
   "source": [
    "# Active Learning Test"
   ]
  },
  {
   "source": [
    "This notebook is to bug test the Active Learning code."
   ],
   "cell_type": "markdown",
   "metadata": {}
  },
  {
   "source": [
    "## Setup\n"
   ],
   "cell_type": "markdown",
   "metadata": {}
  },
  {
   "cell_type": "code",
   "execution_count": 2,
   "metadata": {},
   "outputs": [
    {
     "output_type": "stream",
     "name": "stdout",
     "text": [
      "Directory at /home/ericma/Documents/active_learning created\nProject active_learning created successfully.\n"
     ]
    }
   ],
   "source": [
    "from active_learning import *\n",
    "\n",
    "project = '/home/ericma/Documents'\n",
    "create_AL_project(project)"
   ]
  },
  {
   "cell_type": "code",
   "execution_count": null,
   "metadata": {},
   "outputs": [],
   "source": [
    "from pose_annotation_tools.annotation_postprocessing import *\n",
    "\n",
    "process_active_learning_data(project)"
   ]
  }
 ],
 "metadata": {
  "kernelspec": {
   "name": "python3",
   "display_name": "Python 3.7.8 64-bit ('mars_dev': conda)"
  },
  "language_info": {
   "codemirror_mode": {
    "name": "ipython",
    "version": 3
   },
   "file_extension": ".py",
   "mimetype": "text/x-python",
   "name": "python",
   "nbconvert_exporter": "python",
   "pygments_lexer": "ipython3",
   "version": "3.7.8"
  },
  "interpreter": {
   "hash": "1db740002e8e0caa8b1a3372c3f98c8045bbe54ca86577789aaea9183349935a"
  }
 },
 "nbformat": 4,
 "nbformat_minor": 4
}