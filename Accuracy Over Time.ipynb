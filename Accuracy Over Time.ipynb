{
 "cells": [
  {
   "cell_type": "markdown",
   "metadata": {},
   "source": [
    "# Confidence score distribution w.r.t. ground truth over time\n"
   ]
  },
  {
   "source": [
    "Using project reproduce_pose. Training the model for 1000 iterations and saving frequently. We want to understand how distribution of accuracies vs. confidence scores change over time.\n",
    "\n",
    "It is interesting to note whether the rankings for the most uncertain points change over time."
   ],
   "cell_type": "markdown",
   "metadata": {}
  },
  {
   "source": [
    "## POSE ESTIMATOR\n"
   ],
   "cell_type": "markdown",
   "metadata": {}
  },
  {
   "cell_type": "code",
   "execution_count": null,
   "metadata": {},
   "outputs": [],
   "source": [
    "from hourglass_pose.train_pose import *\n",
    "from hourglass_pose.config import parse_config_file\n",
    "from glob import glob\n",
    "\n",
    "# Paths\n",
    "cfg_path = '/home/ericma/Documents/reproduce_pose/pose/config_train.yaml'\n",
    "log_dir = '/home/ericma/Documents/reproduce_pose/pose/top_log'\n",
    "tfrecord_path = '/home/ericma/Documents/reproduce_pose/pose/top_tfrecords_pose'\n",
    "\n",
    "# Parse configuration file\n",
    "cfg = parse_config_file(cfg_path)\n",
    "\n",
    "# Actually run the training.\n",
    "train(\n",
    "     tfrecords_train=glob('/home/ericma/Documents/reproduce_pose/pose/top_tfrecords_pose/train_dataset-*'),\n",
    "     tfrecords_val=glob('/home/ericma/Documents/reproduce_pose/pose/top_tfrecords_pose/val_dataset-*'),\n",
    "     logdir=log_dir,\n",
    "     cfg=cfg\n",
    "     )"
   ]
  },
  {
   "cell_type": "code",
   "execution_count": null,
   "metadata": {},
   "outputs": [],
   "source": [
    "from hourglass_pose.evaluate_pose import *\n",
    "from hourglass_pose.config import parse_config_file\n",
    "\n",
    "def evaluate_all_checkpoints(project, i):\n",
    "    log = os.path.join(project, 'pose', 'top_log')\n",
    "    ckpt_nums = glob.glob(os.path.join(log, 'model.ckpt-*'))\n",
    "    ckpt_nums = [num for num in ckpt_nums if 'index' not in num and 'data' not in num]\n",
    "    ckpt_nums = [int(num.split('-')[1].split('.')[0]) for num in ckpt_nums]\n",
    "    ckpt_nums.sort()\n",
    "    print(ckpt_nums)\n",
    "    ckpt_nums = [ckpt_nums[i]]\n",
    "    for ckpt_num in ckpt_nums:\n",
    "        print('============================================================')\n",
    "        print('Processing model', ckpt_num)\n",
    "        run_test(project, ckpt_num=ckpt_num)\n",
    "        plot_model_PCK(project, ckpt_num=ckpt_num)\n",
    "        plot_score_vs_accuracy(project=project, ckpt_num=ckpt_num)\n",
    "        print('============================================================')\n",
    "    return\n",
    "\n",
    "project = '/home/ericma/Documents/reproduce_pose'\n",
    "evaluate_all_checkpoints(project, 33)"
   ]
  },
  {
   "cell_type": "code",
   "execution_count": null,
   "metadata": {},
   "outputs": [],
   "source": []
  }
 ],
 "metadata": {
  "kernelspec": {
   "name": "python3",
   "display_name": "Python 3.7.8 64-bit ('mars_dev': conda)"
  },
  "language_info": {
   "codemirror_mode": {
    "name": "ipython",
    "version": 3
   },
   "file_extension": ".py",
   "mimetype": "text/x-python",
   "name": "python",
   "nbconvert_exporter": "python",
   "pygments_lexer": "ipython3",
   "version": "3.7.8"
  },
  "interpreter": {
   "hash": "1db740002e8e0caa8b1a3372c3f98c8045bbe54ca86577789aaea9183349935a"
  }
 },
 "nbformat": 4,
 "nbformat_minor": 4
}