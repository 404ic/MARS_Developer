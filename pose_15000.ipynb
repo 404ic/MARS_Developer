{
 "cells": [
  {
   "cell_type": "markdown",
   "metadata": {},
   "source": [
    "# **Training MARS Hourglass Pose Estimator**"
   ]
  },
  {
   "cell_type": "markdown",
   "metadata": {},
   "source": [
    "### Required Arguments\n",
    "* **tfrecords**: path to the binary file(s) that contain your training set. If multiple files, separate with commas.\n",
    "* **logdir**: path to directory where summary and checkpoint files will be stored.\n",
    "* **cfg**: path to training configuration file.\n",
    "\n",
    "The example below assumes the current working directory is the `multibox_detector` directory, which contains `train.py`. To train the multibox detector with the required arguments, simply replace the areas indicated below with the appropriate paths.\n",
    "\n",
    "### Outputs\n",
    "Saves model checkpoint files to `logdir` directory."
   ]
  },
  {
   "cell_type": "code",
   "execution_count": null,
   "metadata": {},
   "outputs": [],
   "source": [
    "from create_new_project import *\n",
    "\n",
    "create_new_project('/home/ericma/Documents/', '15000_frames_1_annotator', download_MARS_checkpoints=False, download_demo_data=False)\n"
   ]
  },
  {
   "cell_type": "code",
   "execution_count": 3,
   "metadata": {},
   "outputs": [
    {
     "output_type": "stream",
     "name": "stdout",
     "text": [
      "Processing manifest file...\n",
      "  frame 1000\n",
      "  frame 2000\n",
      "  frame 3000\n",
      "  frame 4000\n",
      "  frame 5000\n",
      "  frame 6000\n",
      "  frame 7000\n",
      "  frame 8000\n",
      "  frame 9000\n",
      "  frame 10000\n",
      "  frame 11000\n",
      "  frame 12000\n",
      "  frame 13000\n",
      "  frame 14000\n",
      "Ground-truth keypoint locations extracted!\n",
      "DID NOT SHUFFLE\n",
      "Generating black_top detection training files...\n",
      "done.\n",
      "Generating top pose training files...\n",
      "done.\n",
      "Generating black_top priors...\n",
      "done.\n"
     ]
    }
   ],
   "source": [
    "from pose_annotation_tools.annotation_postprocessing import *\n",
    "\n",
    "project_path = '/home/ericma/Documents/15000_frames_1_annotator'\n",
    "annotation_postprocessing(project_path)"
   ]
  },
  {
   "cell_type": "code",
   "execution_count": null,
   "metadata": {},
   "outputs": [],
   "source": [
    "from hourglass_pose.train_pose import *\n",
    "from hourglass_pose.config import parse_config_file\n",
    "from glob import glob\n",
    "\n",
    "# Paths\n",
    "cfg_path = '/home/ericma/Documents/15000_frames_1_annotator/pose/config_train.yaml'\n",
    "log_dir = '/home/ericma/Documents/15000_frames_1_annotator/pose/top_log'\n",
    "tfrecord_path = '/home/ericma/Documents/15000_frames_1_annotator/pose/top_tfrecords_pose'\n",
    "\n",
    "# Parse configuration file\n",
    "cfg = parse_config_file(cfg_path)\n",
    "\n",
    "# Actually run the training.\n",
    "train(\n",
    "     tfrecords_train=glob('/home/ericma/Documents/15000_frames_1_annotator/pose/top_tfrecords_pose/train_dataset-*'),\n",
    "     tfrecords_val=glob('/home/ericma/Documents/15000_frames_1_annotator/pose/top_tfrecords_pose/val_dataset-*'),\n",
    "     logdir=log_dir,\n",
    "     cfg=cfg\n",
    "     )"
   ]
  },
  {
   "cell_type": "code",
   "execution_count": null,
   "metadata": {},
   "outputs": [],
   "source": [
    "from hourglass_pose.evaluate_pose import *\n",
    "from hourglass_pose.config import parse_config_file\n",
    "from glob import glob\n",
    "\n",
    "project = '/home/ericma/Documents/15000_frames_1_annotator/'\n",
    "run_test(project)\n",
    "plot_model_PCK(project)"
   ]
  }
 ],
 "metadata": {
  "kernelspec": {
   "name": "python3",
   "display_name": "Python 3.7.8 64-bit ('mars_dev': conda)"
  },
  "language_info": {
   "codemirror_mode": {
    "name": "ipython",
    "version": 3
   },
   "file_extension": ".py",
   "mimetype": "text/x-python",
   "name": "python",
   "nbconvert_exporter": "python",
   "pygments_lexer": "ipython3",
   "version": "3.7.8"
  },
  "interpreter": {
   "hash": "1db740002e8e0caa8b1a3372c3f98c8045bbe54ca86577789aaea9183349935a"
  }
 },
 "nbformat": 4,
 "nbformat_minor": 4
}