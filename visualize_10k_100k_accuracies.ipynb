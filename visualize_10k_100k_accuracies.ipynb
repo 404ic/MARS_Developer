{
 "cells": [
  {
   "cell_type": "markdown",
   "metadata": {},
   "source": [
    "# Visualizing keypoints for 10k and 100k accuracies"
   ]
  },
  {
   "cell_type": "code",
   "execution_count": 1,
   "metadata": {},
   "outputs": [
    {
     "output_type": "stream",
     "name": "stdout",
     "text": [
      "WARNING:tensorflow:\nThe TensorFlow contrib module will not be included in TensorFlow 2.0.\nFor more information, please see:\n  * https://github.com/tensorflow/community/blob/master/rfcs/20180907-contrib-sunset.md\n  * https://github.com/tensorflow/addons\n  * https://github.com/tensorflow/io (for I/O related ops)\nIf you depend on functionality not listed there, please file an issue.\n\n"
     ]
    }
   ],
   "source": [
    "import json\n",
    "import numpy as np\n",
    "import matplotlib.pyplot as plt\n",
    "from hourglass_pose.evaluate_pose import *\n",
    "\n",
    "def distance_between_keypoints(a, b):\n",
    "    return np.sqrt(np.sum(np.square(np.array(a[:-1]) - np.array(b[:-1]))))\n",
    "\n",
    "def get_ranked_ids(project):\n",
    "    # infile = os.path.join(project, 'pose', 'top_evaluation', str(ckpt_num) + '_performance_pose.json')\n",
    "    infile = project\n",
    "    with open(infile) as jsonfile:\n",
    "        D = json.load(jsonfile)\n",
    "\n",
    "    gt_keypoints = D['gt_keypoints']['annotations']\n",
    "    pred_keypoints = D['pred_keypoints']\n",
    "\n",
    "    assert len(gt_keypoints) == len(pred_keypoints), 'Lengths of predicted and ground truth keypoints don\\'t match'\n",
    "\n",
    "    data = []\n",
    "\n",
    "    for i in range(len(gt_keypoints)):\n",
    "        gt = gt_keypoints[i]\n",
    "        pred = pred_keypoints[i]\n",
    "        assert gt['image_id'] == pred['image_id'], 'Image IDs do not match'\n",
    "        assert gt['category_id'] == pred['category_id'], 'Category IDs do not match'\n",
    "        if gt['category_id'] != 1:\n",
    "            continue\n",
    "        data.append([distance_between_keypoints(gt['keypoints'], pred['keypoints']),\n",
    "            pred['score'],\n",
    "            int(gt['image_id'])]\n",
    "        )\n",
    "    data.sort(key = lambda pt: pt[1])\n",
    "    data = np.array(data)\n",
    "    return data\n",
    "project = '/home/ericma/Documents/reproduce_pose'\n",
    "project_10k = '/home/ericma/Documents/reproduce_pose/pose/pretrained_evaluation/10936_performance_pose.json'\n",
    "project_100k = '/home/ericma/Documents/reproduce_pose/pose/pretrained_evaluation/98000_performance_pose.json'\n",
    "data_10k = get_ranked_ids(project_10k)\n",
    "data_100k = get_ranked_ids(project_100k)"
   ]
  },
  {
   "cell_type": "code",
   "execution_count": 2,
   "metadata": {},
   "outputs": [
    {
     "output_type": "stream",
     "name": "stdout",
     "text": [
      "Frame 13958 with score of 0.12105774666581835\n",
      "Frame 14138 with score of 0.16657825772251403\n",
      "Frame 14494 with score of 0.18439689385039465\n",
      "Frame 14821 with score of 0.20612514444759913\n",
      "Frame 13818 with score of 0.2597761127565588\n",
      "Frame 14221 with score of 0.2773115560412407\n",
      "Frame 14106 with score of 0.30983537222657886\n",
      "Frame 14480 with score of 0.33287374888147625\n",
      "Frame 13752 with score of 0.339279619710786\n",
      "Frame 14327 with score of 0.3685195722750255\n"
     ]
    }
   ],
   "source": [
    "import matplotlib.pyplot as plt\n",
    "k = 10\n",
    "fig, axs = plt.subplots(2, 5)\n",
    "fig.suptitle('Ten lowest confidences of keypoint estimator trained for 10K iterations')\n",
    "for i in range(k):\n",
    "    axs[i // 5][i % 5] = plot_frame(project, data_100k[i][2], perf_pose=project_100k)\n",
    "fig.show()\n",
    "fig.savefig(os.path.join(project, 'pose', 'eval.png'))"
   ]
  },
  {
   "cell_type": "code",
   "execution_count": 3,
   "metadata": {},
   "outputs": [
    {
     "output_type": "stream",
     "name": "stdout",
     "text": [
      "Frame 14494 with score of 0.2351930375610079\n",
      "Frame 14176 with score of 0.25628844941301004\n",
      "Frame 14821 with score of 0.26412205398082733\n",
      "Frame 14106 with score of 0.27337153043065754\n",
      "Frame 13609 with score of 0.27365315333008766\n",
      "Frame 14605 with score of 0.2857232445052692\n",
      "Frame 14158 with score of 0.29861973438944134\n",
      "Frame 14056 with score of 0.29915005021861624\n",
      "Frame 14574 with score of 0.3030326451574053\n",
      "Frame 13635 with score of 0.307580934039184\n"
     ]
    }
   ],
   "source": [
    "for i in range(k):\n",
    "    plot_frame(project, data_10k[i][2], perf_pose=project_10k)"
   ]
  },
  {
   "cell_type": "code",
   "execution_count": null,
   "metadata": {},
   "outputs": [],
   "source": []
  }
 ],
 "metadata": {
  "kernelspec": {
   "name": "python3",
   "display_name": "Python 3.7.8 64-bit ('mars_dev': conda)"
  },
  "language_info": {
   "codemirror_mode": {
    "name": "ipython",
    "version": 3
   },
   "file_extension": ".py",
   "mimetype": "text/x-python",
   "name": "python",
   "nbconvert_exporter": "python",
   "pygments_lexer": "ipython3",
   "version": "3.7.8"
  },
  "interpreter": {
   "hash": "1db740002e8e0caa8b1a3372c3f98c8045bbe54ca86577789aaea9183349935a"
  }
 },
 "nbformat": 4,
 "nbformat_minor": 4
}