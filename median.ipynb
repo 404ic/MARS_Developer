{
 "metadata": {
  "language_info": {
   "codemirror_mode": {
    "name": "ipython",
    "version": 3
   },
   "file_extension": ".py",
   "mimetype": "text/x-python",
   "name": "python",
   "nbconvert_exporter": "python",
   "pygments_lexer": "ipython3",
   "version": "3.7.8"
  },
  "orig_nbformat": 4,
  "kernelspec": {
   "name": "python3",
   "display_name": "Python 3.7.8 64-bit ('mars_dev': conda)"
  },
  "interpreter": {
   "hash": "ad4d377f99c200c2e0aa6fc5025a376bbe7f2d35ceac50bb18d6f09db78b13ed"
  }
 },
 "nbformat": 4,
 "nbformat_minor": 2,
 "cells": [
  {
   "source": [
    "# Models trained on median of 5 workers"
   ],
   "cell_type": "markdown",
   "metadata": {}
  },
  {
   "cell_type": "code",
   "execution_count": 2,
   "metadata": {},
   "outputs": [
    {
     "output_type": "stream",
     "name": "stdout",
     "text": [
      "  Downloading the pre-trained MARS models (2.24Gb)...\n",
      "Downloading...\n",
      "From: https://drive.google.com/uc?id=1NyAuwI6iQdMgRB2w4zX44yFAgEkux4op\n",
      "To: /home/cristina/Desktop/ericykma/m_dev_fork/median/MARS_v1_8_models.zip\n",
      "2.41GB [03:33, 11.3MB/s]\n",
      "  unzipping...\n",
      "  models have been downloaded.\n",
      "Project median created successfully.\n"
     ]
    }
   ],
   "source": [
    "from create_new_project import *\n",
    "\n",
    "location = '/home/cristina/Desktop/ericykma/m_dev_fork/'\n",
    "name = 'median'\n",
    "\n",
    "create_new_project(location, name,\n",
    "                   download_MARS_checkpoints=True,\n",
    "                   download_demo_data=False)"
   ]
  },
  {
   "cell_type": "code",
   "execution_count": null,
   "metadata": {},
   "outputs": [],
   "source": []
  }
 ]
}