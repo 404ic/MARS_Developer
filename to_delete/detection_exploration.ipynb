{
 "metadata": {
  "language_info": {
   "codemirror_mode": {
    "name": "ipython",
    "version": 3
   },
   "file_extension": ".py",
   "mimetype": "text/x-python",
   "name": "python",
   "nbconvert_exporter": "python",
   "pygments_lexer": "ipython3",
   "version": "3.7.8"
  },
  "orig_nbformat": 4,
  "kernelspec": {
   "name": "python3",
   "display_name": "Python 3.7.8 64-bit ('mars_dev': conda)"
  },
  "interpreter": {
   "hash": "ad4d377f99c200c2e0aa6fc5025a376bbe7f2d35ceac50bb18d6f09db78b13ed"
  }
 },
 "nbformat": 4,
 "nbformat_minor": 2,
 "cells": [
  {
   "source": [
    "# Annotation Budget\n",
    "\n",
    "In this notebook, we aim to answer the following questions:\n",
    "\n",
    "1. When you have 5 keypoint annotations per frame is it best to first consolidate the 5 annotations into one \"consensus label\" and then use that label for supervised training, or is it best to use each annotation separately in training the keypoint detector?\n",
    "2. If you have a budget of 5000 frame annotations, is it best to collect 5 annotations on 1000 frames, or one annotation for 5000 frames?\n",
    "\n",
    "We explore these questions for the black mouse on the detection and pose estimation tasks.\n",
    "\n"
   ],
   "cell_type": "markdown",
   "metadata": {}
  },
  {
   "cell_type": "code",
   "execution_count": null,
   "metadata": {},
   "outputs": [],
   "source": [
    "import create_new_project\n",
    "import importlib\n",
    "importlib.reload(create_new_project)\n",
    "from create_new_project import *\n",
    "\n",
    "location = '/home/cristina/Desktop/ericykma/m_dev_fork/'\n",
    "name = 'annotation_budget'\n",
    "\n",
    "create_new_project(location, name,\n",
    "                   download_MARS_checkpoints=False,\n",
    "                   download_demo_data=False)"
   ]
  },
  {
   "cell_type": "code",
   "execution_count": null,
   "metadata": {},
   "outputs": [],
   "source": [
    "import misc_utils\n",
    "from multibox_detection import train_detect\n",
    "import pose_annotation_tools.annotation_postprocessing as annotation_postprocessing\n",
    "import importlib\n",
    "importlib.reload(annotation_postprocessing)\n",
    "importlib.reload(misc_utils)\n",
    "from pprint import pprint\n",
    "import json\n",
    "\n",
    "color = 'black'\n",
    "annotator = 0\n",
    "project_path = '/home/cristina/Desktop/ericykma/m_dev_fork/annotation_budget'\n",
    "data_path = '/home/cristina/Desktop/ericykma/m_dev_fork/annotation_budget/MARS_pose_annotations'\n",
    "data = misc_utils.format_for_tfrecord(data_path, color, annotator)\n",
    "with open('data.json', 'w') as fp:\n",
    "    json.dump(data, fp)\n",
    "print('Dictionary processed.')\n",
    "annotation_postprocessing.prepare_detector_training_data_2(project_path, data, color)\n",
    "print('tfrecords processed')"
   ]
  },
  {
   "cell_type": "code",
   "execution_count": null,
   "metadata": {},
   "outputs": [],
   "source": [
    "importlib.reload(annotation_postprocessing)\n",
    "\n",
    "annotation_postprocessing.make_project_priors(project_path)"
   ]
  },
  {
   "cell_type": "code",
   "execution_count": null,
   "metadata": {
    "tags": []
   },
   "outputs": [],
   "source": [
    "import create_new_project\n",
    "import importlib\n",
    "importlib.reload(create_new_project)\n",
    "from create_new_project import *\n",
    "import misc_utils\n",
    "from multibox_detection import train_detect\n",
    "import pose_annotation_tools.annotation_postprocessing as annotation_postprocessing\n",
    "import importlib\n",
    "importlib.reload(annotation_postprocessing)\n",
    "importlib.reload(misc_utils)\n",
    "from pprint import pprint\n",
    "import json\n",
    "\n",
    "project_path = '/home/cristina/Desktop/ericykma/m_dev_fork/annotation_budget'\n",
    "data_path = '/home/cristina/Desktop/ericykma/m_dev_fork/annotation_budget/MARS_pose_annotations'\n",
    "print('Starting training...')\n",
    "train_detect.run_training(project_path, max_training_steps=10000)\n",
    "print('Finished execution.')"
   ]
  },
  {
   "cell_type": "code",
   "execution_count": null,
   "metadata": {},
   "outputs": [],
   "source": [
    "from multibox_detection import evaluate_detection\n",
    "import importlib\n",
    "importlib.reload(evaluate_detection)\n",
    "\n",
    "project_path = '/home/cristina/Desktop/ericykma/m_dev_fork/annotation_budget'\n",
    "\n",
    "evaluate_detection.plot_training_progress(project_path, omitFirst=0, logTime=False)\n",
    "evaluate_detection.save_best_checkpoint(project_path)"
   ]
  },
  {
   "cell_type": "code",
   "execution_count": null,
   "metadata": {},
   "outputs": [],
   "source": [
    "import create_new_project\n",
    "import importlib\n",
    "importlib.reload(create_new_project)\n",
    "from create_new_project import *\n",
    "import misc_utils\n",
    "from multibox_detection import train_detect\n",
    "import pose_annotation_tools.annotation_postprocessing as annotation_postprocessing\n",
    "import importlib\n",
    "importlib.reload(annotation_postprocessing)\n",
    "importlib.reload(misc_utils)\n",
    "from pprint import pprint\n",
    "import json\n",
    "from multibox_detection import evaluate_detection\n",
    "project_path = '/home/cristina/Desktop/ericykma/m_dev_fork/annotation_budget'\n",
    "\n",
    "performance = evaluate_detection.run_test(project_path)"
   ]
  },
  {
   "cell_type": "code",
   "execution_count": null,
   "metadata": {},
   "outputs": [],
   "source": [
    "from multibox_detection import evaluate_detection\n",
    "import importlib\n",
    "importlib.reload(evaluate_detection)\n",
    "project_path = '/home/cristina/Desktop/ericykma/m_dev_fork/annotation_budget'\n",
    "\n",
    "frame_num = 10\n",
    "\n",
    "evaluate_detection.plot_frame(project_path, frame_num, markersize=7, figsize=[10,10], confidence_thr=0)"
   ]
  },
  {
   "cell_type": "code",
   "execution_count": null,
   "metadata": {},
   "outputs": [],
   "source": [
    "print('Starting')\n",
    "import pose_annotation_tools.annotation_postprocessing \n",
    "import importlib\n",
    "importlib.reload(pose_annotation_tools.annotation_postprocessing)\n",
    "from pose_annotation_tools.annotation_postprocessing import *\n",
    "project_path = '/home/cristina/Desktop/ericykma/m_dev_fork/annotation_budget'\n",
    "annotation_postprocessing(project_path)\n",
    "print('Done')"
   ]
  },
  {
   "cell_type": "code",
   "execution_count": 1,
   "metadata": {},
   "outputs": [
    {
     "output_type": "stream",
     "name": "stdout",
     "text": [
      "Project v3 created successfully.\n"
     ]
    }
   ],
   "source": [
    "from create_new_project import *\n",
    "\n",
    "location = '/home/cristina/Desktop/ericykma/m_dev_fork/'\n",
    "name = 'v3'\n",
    "\n",
    "create_new_project(location, name,\n",
    "                   download_MARS_checkpoints=False,\n",
    "                   download_demo_data=False)"
   ]
  },
  {
   "cell_type": "code",
   "execution_count": 4,
   "metadata": {},
   "outputs": [
    {
     "output_type": "stream",
     "name": "stdout",
     "text": [
      "Starting\n",
      "Hello world\n",
      "START MANIFEST_TO_DICT\n",
      "CONFIG FILE OPENED\n",
      "CONFIG FILE PROCESSED\n",
      "OPENING MANIFEST FILE\n",
      "Line 0\n",
      "Line 1000\n",
      "Line 2000\n",
      "Line 3000\n",
      "Line 4000\n",
      "Line 5000\n",
      "Line 6000\n",
      "Line 7000\n",
      "Line 8000\n",
      "Line 9000\n",
      "Line 10000\n",
      "Line 11000\n",
      "Line 12000\n",
      "Line 13000\n",
      "Line 14000\n",
      "PROCESSED MANIFEST FILE\n",
      "FINAL CHECKPOINT BEFORE LOOP\n",
      "Processing manifest file...\n",
      "15000\n",
      " line 0\n",
      " line 500\n",
      " line 1000\n",
      "  frame 1000\n",
      " line 1500\n",
      " line 2000\n",
      "  frame 2000\n",
      " line 2500\n",
      " line 3000\n",
      "  frame 3000\n",
      " line 3500\n",
      " line 4000\n",
      "  frame 4000\n",
      " line 4500\n",
      " line 5000\n",
      "  frame 5000\n",
      " line 5500\n",
      " line 6000\n",
      "  frame 6000\n",
      " line 6500\n",
      " line 7000\n",
      "  frame 7000\n",
      " line 7500\n",
      " line 8000\n",
      "  frame 8000\n",
      " line 8500\n",
      " line 9000\n",
      "  frame 9000\n",
      " line 9500\n",
      " line 10000\n",
      "  frame 10000\n",
      " line 10500\n",
      " line 11000\n",
      "  frame 11000\n",
      " line 11500\n",
      " line 12000\n",
      "  frame 12000\n",
      " line 12500\n",
      " line 13000\n",
      "  frame 13000\n",
      " line 13500\n",
      " line 14000\n",
      "  frame 14000\n",
      " line 14500\n",
      "Ground-truth keypoint locations extracted!\n",
      "Finished making .json\n",
      "Generating black_top detection training files...\n",
      "<class 'list'>\n",
      "<class 'dict'>\n",
      "{'class': {'label': 0, 'text': ''},\n",
      " 'filename': '/home/cristina/Desktop/ericykma/m_dev_fork/v3/annotation_data/raw_images/MARS_top_03774.jpg',\n",
      " 'height': 570,\n",
      " 'id': '000000',\n",
      " 'object': {'area': [46634.41199999999],\n",
      "            'bbox': {'count': 1,\n",
      "                     'label': [0],\n",
      "                     'xmax': [0.25142578125],\n",
      "                     'xmin': [0.04544921875],\n",
      "                     'ymax': [0.8654385964912281],\n",
      "                     'ymin': [0.4775438596491229]}},\n",
      " 'width': 1024}\n",
      "done.\n",
      "Generating top pose training files...\n",
      "done.\n",
      "Generating black_top priors...\n",
      "/home/cristina/Desktop/ericykma/m_dev_fork/v3/detection/black_top_tfrecords_detection/train_dataset-*\n",
      "yeet\n",
      "['/home/cristina/Desktop/ericykma/m_dev_fork/v3/detection/black_top_tfrecords_detection/train_dataset-00011-of-00013', '/home/cristina/Desktop/ericykma/m_dev_fork/v3/detection/black_top_tfrecords_detection/train_dataset-00002-of-00013', '/home/cristina/Desktop/ericykma/m_dev_fork/v3/detection/black_top_tfrecords_detection/train_dataset-00005-of-00013', '/home/cristina/Desktop/ericykma/m_dev_fork/v3/detection/black_top_tfrecords_detection/train_dataset-00010-of-00013', '/home/cristina/Desktop/ericykma/m_dev_fork/v3/detection/black_top_tfrecords_detection/train_dataset-00008-of-00013', '/home/cristina/Desktop/ericykma/m_dev_fork/v3/detection/black_top_tfrecords_detection/train_dataset-00012-of-00013', '/home/cristina/Desktop/ericykma/m_dev_fork/v3/detection/black_top_tfrecords_detection/train_dataset-00009-of-00013', '/home/cristina/Desktop/ericykma/m_dev_fork/v3/detection/black_top_tfrecords_detection/train_dataset-00007-of-00013', '/home/cristina/Desktop/ericykma/m_dev_fork/v3/detection/black_top_tfrecords_detection/train_dataset-00004-of-00013', '/home/cristina/Desktop/ericykma/m_dev_fork/v3/detection/black_top_tfrecords_detection/train_dataset-00001-of-00013', '/home/cristina/Desktop/ericykma/m_dev_fork/v3/detection/black_top_tfrecords_detection/train_dataset-00006-of-00013', '/home/cristina/Desktop/ericykma/m_dev_fork/v3/detection/black_top_tfrecords_detection/train_dataset-00003-of-00013', '/home/cristina/Desktop/ericykma/m_dev_fork/v3/detection/black_top_tfrecords_detection/train_dataset-00000-of-00013']\n",
      "done.\n",
      "Done\n"
     ]
    }
   ],
   "source": [
    "print('Starting')\n",
    "import pose_annotation_tools.annotation_postprocessing \n",
    "import importlib\n",
    "importlib.reload(pose_annotation_tools.annotation_postprocessing)\n",
    "from pose_annotation_tools.annotation_postprocessing import *\n",
    "project_path = '/home/cristina/Desktop/ericykma/m_dev_fork/v3'\n",
    "annotation_postprocessing(project_path)\n",
    "print('Done')"
   ]
  },
  {
   "cell_type": "code",
   "execution_count": null,
   "metadata": {},
   "outputs": [],
   "source": []
  }
 ]
}